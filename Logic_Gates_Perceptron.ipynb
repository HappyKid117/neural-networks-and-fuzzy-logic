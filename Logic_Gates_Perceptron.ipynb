{
 "cells": [
  {
   "cell_type": "markdown",
   "source": [
    "# OR, AND, NOR, NAND, Failed XOR"
   ],
   "metadata": {
    "id": "y0I4FgtgPVnd"
   }
  },
  {
   "cell_type": "code",
   "execution_count": 1,
   "source": [
    "import numpy as np"
   ],
   "outputs": [],
   "metadata": {}
  },
  {
   "cell_type": "code",
   "execution_count": 2,
   "source": [
    "def my_training(input, weights, correct):\n",
    "  threshold = 0\n",
    "  num_iter = 10\n",
    "  for _ in range(num_iter):\n",
    "      for i in range(len(input)):\n",
    "        sum = np.dot(input[i], weights)\n",
    "        output = sum > threshold\n",
    "        error = correct[i] - output\n",
    "        weights = weights + error*input[i]\n",
    "  return weights, threshold"
   ],
   "outputs": [],
   "metadata": {}
  },
  {
   "cell_type": "code",
   "execution_count": 3,
   "source": [
    "class MyPerceptron:\n",
    "  weights = []\n",
    "  threshold = 0\n",
    "  def __init__(self, dataset, expected, name):\n",
    "    self.weights = np.zeros(len(dataset[0]))\n",
    "    self.weights, self.threshold = my_training(dataset, self.weights, expected)\n",
    "    self.name = name\n",
    "\n",
    "  def predict(self, input):\n",
    "    return np.dot(input,self.weights)>self.threshold"
   ],
   "outputs": [],
   "metadata": {}
  },
  {
   "cell_type": "code",
   "execution_count": 4,
   "source": [
    "Inputs = np.array([[1,0,0], [1,0,1], [1,1,0], [1,1,1]])\n",
    "OR_Expected = np.array([0,1,1,1])\n",
    "AND_Expected = np.array([0,0,0,1])\n",
    "NOR_Expected = np.array([1,0,0,0])\n",
    "NAND_Expected = np.array([1,1,1,0])\n",
    "XOR_Expected = np.array([0,1,1,0])\n",
    "\n",
    "OR = MyPerceptron(Inputs, OR_Expected, \"OR\")\n",
    "AND = MyPerceptron(Inputs, AND_Expected, \"AND\")\n",
    "NOR = MyPerceptron(Inputs, NOR_Expected, \"NOR\")\n",
    "NAND = MyPerceptron(Inputs, NAND_Expected, \"NAND\")\n",
    "XOR = MyPerceptron(Inputs, XOR_Expected, \"XOR\")\n",
    "\n",
    "Logic_Gates = [OR, AND, NOR, NAND, XOR]\n",
    "\n",
    "for i in Logic_Gates:\n",
    "  for j in Inputs:\n",
    "    print(j[1], i.name, j[2], \"=\", i.predict(j))\n",
    "  print()"
   ],
   "outputs": [],
   "metadata": {}
  },
  {
   "cell_type": "code",
   "execution_count": null,
   "source": [],
   "outputs": [],
   "metadata": {}
  }
 ],
 "metadata": {
  "orig_nbformat": 4,
  "language_info": {
   "name": "python",
   "version": "3.8.10",
   "mimetype": "text/x-python",
   "codemirror_mode": {
    "name": "ipython",
    "version": 3
   },
   "pygments_lexer": "ipython3",
   "nbconvert_exporter": "python",
   "file_extension": ".py"
  },
  "kernelspec": {
   "name": "python3",
   "display_name": "Python 3.8.10 64-bit"
  },
  "interpreter": {
   "hash": "916dbcbb3f70747c44a77c7bcd40155683ae19c65e1c03b4aa3499c5328201f1"
  }
 },
 "nbformat": 4,
 "nbformat_minor": 2
}