{
  "nbformat": 4,
  "nbformat_minor": 5,
  "metadata": {
    "kernelspec": {
      "name": "python3",
      "display_name": "Python 3.8.10 64-bit"
    },
    "language_info": {
      "codemirror_mode": {
        "name": "ipython",
        "version": 3
      },
      "file_extension": ".py",
      "mimetype": "text/x-python",
      "name": "python",
      "nbconvert_exporter": "python",
      "pygments_lexer": "ipython3",
      "version": "3.8.10"
    },
    "colab": {
      "name": "2019A7PS0021G_Lab2.ipynb",
      "provenance": [],
      "collapsed_sections": []
    },
    "interpreter": {
      "hash": "916dbcbb3f70747c44a77c7bcd40155683ae19c65e1c03b4aa3499c5328201f1"
    }
  },
  "cells": [
    {
      "cell_type": "code",
      "execution_count": 2,
      "source": [
        "import numpy as np\n",
        "import tensorflow as tf\n",
        "import matplotlib.pyplot as plt"
      ],
      "outputs": [
        {
          "output_type": "stream",
          "name": "stderr",
          "text": [
            "2021-09-05 02:00:28.638586: W tensorflow/stream_executor/platform/default/dso_loader.cc:64] Could not load dynamic library 'libcudart.so.11.0'; dlerror: libcudart.so.11.0: cannot open shared object file: No such file or directory\n",
            "2021-09-05 02:00:28.638608: I tensorflow/stream_executor/cuda/cudart_stub.cc:29] Ignore above cudart dlerror if you do not have a GPU set up on your machine.\n"
          ]
        }
      ],
      "metadata": {}
    },
    {
      "cell_type": "code",
      "execution_count": null,
      "source": [
        "#Using tensorflow's mnist fashion dataset\n",
        "mnist_hw = tf.keras.datasets.fashion_mnist\n",
        "#loading the data\n",
        "(X_train_hw, Y_train_hw), (X_test_hw, Y_test_hw) = mnist_hw.load_data()\n",
        "#Preprocess the data\n",
        "X_train_hw = tf.keras.utils.normalize(X_train_hw, axis = 1)\n",
        "X_test_hw = tf.keras.utils.normalize(X_test_hw, axis = 1)"
      ],
      "outputs": [],
      "metadata": {}
    },
    {
      "cell_type": "code",
      "execution_count": null,
      "source": [
        "#filtering inputs and outputs for only digits 0 and 1\n",
        "x_train_hw = []\n",
        "y_train_hw = []\n",
        "\n",
        "x_test_hw = []\n",
        "y_test_hw = []\n",
        "# Keeping only 0 and 1 \n",
        "for i in range(len(X_train_hw)):\n",
        "    ##Write code here\n",
        "    if(Y_train_hw[i]<=1):\n",
        "      x_train_hw.append(X_train_hw[i])\n",
        "      y_train_hw.append(Y_train_hw[i])\n",
        "    \n",
        "for i in range(len(X_test_hw)):\n",
        "    ##Write code here\n",
        "      if(Y_test_hw[i]<=1):\n",
        "        x_test_hw.append(X_test_hw[i])\n",
        "        y_test_hw.append(Y_test_hw[i])\n",
        "        \n",
        "#seeing the images\n",
        "for i in range(9):\n",
        "\t# define subplot\n",
        "\tplt.subplot(330 + 1 + i)\n",
        "\t# plot raw pixel data\n",
        "\tplt.imshow(x_train_hw[i], cmap=plt.get_cmap('gray'))\n",
        "# show the figure\n",
        "plt.show()\n",
        "\n",
        "\n",
        "\n",
        "# Reshaping for 1D input vector\n",
        "##Write code here to reshape\n",
        "x_train_hw = np.array(x_train_hw).reshape(-1,28*28)\n",
        "x_test_hw = np.array(x_test_hw).reshape(-1,28*28)\n",
        "y_train_hw = np.array(y_train_hw)\n",
        "y_test_hw = np.array(y_test_hw)\n",
        "\n",
        "print(x_train_hw.shape)\n",
        "print(y_train_hw.shape)\n",
        "print()\n",
        "print(x_test_hw.shape)\n",
        "print(y_test_hw.shape)"
      ],
      "outputs": [],
      "metadata": {}
    },
    {
      "cell_type": "code",
      "execution_count": null,
      "source": [
        "model_hw = tf.keras.Sequential([\n",
        "    tf.keras.Input((None, 784)),\n",
        "    tf.keras.layers.Dense(1, activation=tf.nn.sigmoid)\n",
        "])\n",
        "model_hw.compile(optimizer=\"SGD\", loss=\"binary_crossentropy\", metrics=\"accuracy\")"
      ],
      "outputs": [],
      "metadata": {}
    },
    {
      "cell_type": "code",
      "execution_count": null,
      "source": [
        "#Training the model\n",
        "#Use 10 epochs for this\n",
        "history_hw = model_hw.fit(x_train_hw, y_train_hw, epochs=10, validation_data=(x_test_hw, y_test_hw))"
      ],
      "outputs": [],
      "metadata": {}
    },
    {
      "cell_type": "code",
      "execution_count": null,
      "source": [
        "#plotting the model performance\n",
        "plt.plot(history_hw.history['accuracy'])\n",
        "plt.plot(history_hw.history['val_accuracy'])\n",
        "plt.title('Model Accuracy')\n",
        "plt.xlabel('epochs')\n",
        "plt.ylabel('accuracy')\n",
        "plt.legend(['train', 'test'], loc = 'upper left')\n",
        "plt.show()\n",
        "plt.plot(history_hw.history['loss'])\n",
        "plt.plot(history_hw.history['val_loss'])\n",
        "plt.title('Model Loss')\n",
        "plt.xlabel('epochs')\n",
        "plt.ylabel('accuracy')\n",
        "plt.legend(['train', 'test'], loc = 'upper left')\n",
        "plt.show()"
      ],
      "outputs": [],
      "metadata": {}
    }
  ]
}